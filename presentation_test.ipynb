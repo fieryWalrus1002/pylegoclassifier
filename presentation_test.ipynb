{
 "cells": [
  {
   "cell_type": "code",
   "execution_count": 3,
   "metadata": {},
   "outputs": [
    {
     "name": "stdout",
     "output_type": "stream",
     "text": [
      "image processor activated! use 'process_image_to_df()' to get back a pandas df\n",
      "<class 'pylegoclassifier.NaiveBayes'>\n",
      "there are 2 lego images in list\n",
      "kinect has acquired the image with shape = (540, 1845, 3)\n",
      "obj0_pred5\n",
      "obj1_pred8\n",
      "obj2_pred6\n",
      "obj3_pred6\n",
      "obj4_pred6\n",
      "obj5_pred2\n",
      "obj6_pred4\n",
      "obj7_pred8\n",
      "obj8_pred2\n",
      "obj9_pred0\n"
     ]
    }
   ],
   "source": [
    "from pylegoclassifier import NaiveBayes, MatlabSurrogate, ImageProcess\n",
    "from os import listdir\n",
    "from os.path import isfile, join\n",
    "import pickle\n",
    "import cv2 as cv\n",
    "\n",
    "matlab = MatlabSurrogate()\n",
    "imageproc = ImageProcess()\n",
    "nb = NaiveBayes()\n",
    "print(type(nb))\n",
    "\n",
    "# load model from pickle jar\n",
    "nb_model = pickle.load(open('nb_classifier.sav', 'rb'))\n",
    "\n",
    "# get our raw images into a list\n",
    "raw_img_path = \"images/test/\"\n",
    "lego_imgs = [(raw_img_path + f) for f in listdir(raw_img_path) if isfile(join(raw_img_path, f))]\n",
    "print(f\"there are {len(lego_imgs)} lego images in list\")\n",
    "\n",
    "idx = 1\n",
    "lego_img = matlab.acquire_kinect_image(lego_imgs[idx])\n",
    "result_image = imageproc.process_image_make_predictions(lego_img, nb_model)\n",
    "\n",
    "\n",
    "#export the image back to matlab\n",
    "# but we show it here\n",
    "matlab.imshow(result_image, imdiv=1)\n",
    "            \n"
   ]
  },
  {
   "cell_type": "code",
   "execution_count": null,
   "metadata": {},
   "outputs": [],
   "source": []
  }
 ],
 "metadata": {
  "kernelspec": {
   "display_name": "Python 3",
   "language": "python",
   "name": "python3"
  },
  "language_info": {
   "codemirror_mode": {
    "name": "ipython",
    "version": 3
   },
   "file_extension": ".py",
   "mimetype": "text/x-python",
   "name": "python",
   "nbconvert_exporter": "python",
   "pygments_lexer": "ipython3",
   "version": "3.8.5"
  }
 },
 "nbformat": 4,
 "nbformat_minor": 4
}
